{
 "cells": [
  {
   "cell_type": "markdown",
   "metadata": {
    "application/vnd.databricks.v1+cell": {
     "cellMetadata": {
      "byteLimit": 2048000,
      "rowLimit": 10000
     },
     "inputWidgets": {},
     "nuid": "83b252d5-5bc8-4306-b986-0729c1ef135d",
     "showTitle": false,
     "title": ""
    }
   },
   "source": [
    "# Installation"
   ]
  },
  {
   "cell_type": "code",
   "execution_count": 0,
   "metadata": {
    "application/vnd.databricks.v1+cell": {
     "cellMetadata": {
      "byteLimit": 2048000,
      "rowLimit": 10000
     },
     "inputWidgets": {},
     "nuid": "1bbddeae-48e3-4208-928b-444ea106f825",
     "showTitle": false,
     "title": ""
    }
   },
   "outputs": [],
   "source": [
    "%pip install tabula-py pandas tabulate azure-core azure-search-documents pypdf openai"
   ]
  },
  {
   "cell_type": "code",
   "execution_count": 0,
   "metadata": {
    "application/vnd.databricks.v1+cell": {
     "cellMetadata": {
      "byteLimit": 2048000,
      "rowLimit": 10000
     },
     "inputWidgets": {},
     "nuid": "89305369-b847-4273-b516-d31827351ca2",
     "showTitle": false,
     "title": ""
    }
   },
   "outputs": [],
   "source": [
    "%pip install openai"
   ]
  },
  {
   "cell_type": "code",
   "execution_count": 0,
   "metadata": {
    "application/vnd.databricks.v1+cell": {
     "cellMetadata": {
      "byteLimit": 2048000,
      "rowLimit": 10000
     },
     "inputWidgets": {},
     "nuid": "8d5aedd4-6647-4f59-87b7-fbeadd45613e",
     "showTitle": false,
     "title": ""
    }
   },
   "outputs": [],
   "source": [
    "%pip install PyPDF2"
   ]
  },
  {
   "cell_type": "markdown",
   "metadata": {
    "application/vnd.databricks.v1+cell": {
     "cellMetadata": {
      "byteLimit": 2048000,
      "rowLimit": 10000
     },
     "inputWidgets": {},
     "nuid": "a8a22a2b-0962-471a-83c7-5f5e2164af8f",
     "showTitle": false,
     "title": ""
    }
   },
   "source": [
    "# Creating Search Index"
   ]
  },
  {
   "cell_type": "code",
   "execution_count": 0,
   "metadata": {
    "application/vnd.databricks.v1+cell": {
     "cellMetadata": {
      "byteLimit": 2048000,
      "rowLimit": 10000
     },
     "inputWidgets": {},
     "nuid": "e09f8859-ad0e-4ce3-92ff-b2fa53143bb0",
     "showTitle": false,
     "title": ""
    }
   },
   "outputs": [],
   "source": [
    "import os\n",
    "import glob\n",
    "import json\n",
    "import os\n",
    "from azure.core.credentials import AzureKeyCredential\n",
    "from azure.search.documents.indexes import SearchIndexClient \n",
    "from azure.search.documents import SearchClient\n",
    "from azure.search.documents.indexes.models import (\n",
    "    ComplexField,\n",
    "    CorsOptions,\n",
    "    SearchIndex,\n",
    "    ScoringProfile,\n",
    "    SearchFieldDataType,\n",
    "    SimpleField,\n",
    "    SearchableField\n",
    ")\n",
    "\n",
    "import tabula\n",
    "from tabulate import tabulate\n",
    "from pypdf import PdfReader as pypdfReader\n",
    "from PyPDF2 import PdfReader as PyPDF2Reader\n",
    "from PyPDF2 import PdfWriter as PyPDF2Writer\n",
    "\n"
   ]
  },
  {
   "cell_type": "code",
   "execution_count": 0,
   "metadata": {
    "application/vnd.databricks.v1+cell": {
     "cellMetadata": {
      "byteLimit": 2048000,
      "rowLimit": 10000
     },
     "inputWidgets": {},
     "nuid": "ea98ff60-1f74-49aa-911f-3bba480bb558",
     "showTitle": false,
     "title": ""
    }
   },
   "outputs": [],
   "source": [
    "#data = {'@search.action':search_action, 'id': str(i), 'content_table':markdown, 'page_number':page_number, 'document_link_web': pdf_info[3], 'document_link_storage': pdf_info[0],#'dataType': dataType, 'title' : title , 'content_html':df_html , 'content_text' : text }"
   ]
  },
  {
   "cell_type": "code",
   "execution_count": 0,
   "metadata": {
    "application/vnd.databricks.v1+cell": {
     "cellMetadata": {
      "byteLimit": 2048000,
      "rowLimit": 10000
     },
     "inputWidgets": {},
     "nuid": "c83556c6-369b-44ba-9df6-3aa4f46993c2",
     "showTitle": false,
     "title": ""
    }
   },
   "outputs": [],
   "source": [
    "schema_obj = r'''{\n",
    "    \"name\": \"index-tables-from-pdf-bahamas-v4\",  \n",
    "    \"fields\": [\n",
    "        {\"name\": \"id\", \"type\": \"Edm.String\", \"key\": true, \"filterable\": true},\n",
    "        {\"name\": \"content\", \"type\": \"Edm.String\", \"searchable\": true, \"filterable\": false, \"sortable\": true, \"facetable\": false},\n",
    "        {\"name\": \"page_number\", \"type\": \"Edm.String\", \"searchable\": true, \"filterable\": false, \"sortable\": true, \"facetable\": false},\n",
    "        {\"name\": \"document_link\", \"type\": \"Edm.String\", \"searchable\": true, \"filterable\": false, \"sortable\": true, \"facetable\": false},\n",
    "        {\"name\": \"document_link_storage\", \"type\": \"Edm.String\", \"searchable\": true, \"filterable\": false, \"sortable\": true, \"facetable\": false},\n",
    "        {\"name\": \"dataType\", \"type\": \"Edm.String\", \"searchable\": true, \"filterable\": false, \"sortable\": true, \"facetable\": false},\n",
    "        {\"name\": \"title\", \"type\": \"Edm.String\", \"searchable\": true, \"filterable\": false, \"sortable\": true, \"facetable\": false},\n",
    "        {\"name\": \"content_html\", \"type\": \"Edm.String\", \"searchable\": true, \"filterable\": false, \"sortable\": true, \"facetable\": false},\n",
    "        {\"name\": \"content_text\", \"type\": \"Edm.String\", \"searchable\": false, \"filterable\": false, \"sortable\": true, \"facetable\": false},\n",
    "        {\"name\": \"document_filename\", \"type\": \"Edm.String\", \"searchable\": true, \"filterable\": false, \"sortable\": true, \"facetable\": false}\n",
    "  ]\n",
    "}'''\n",
    "       \n",
    "schema_json = json.loads(schema_obj)\n",
    "      \n",
    "print(schema_json)"
   ]
  },
  {
   "cell_type": "code",
   "execution_count": 0,
   "metadata": {
    "application/vnd.databricks.v1+cell": {
     "cellMetadata": {
      "byteLimit": 2048000,
      "rowLimit": 10000
     },
     "inputWidgets": {},
     "nuid": "83550f75-9949-4f14-b97e-ef13f13587c7",
     "showTitle": false,
     "title": ""
    }
   },
   "outputs": [],
   "source": [
    "service_name = \"wedocumentsearchdemocase\"\n",
    "admin_key = \"\"\n",
    "index_name = \"index-tables-from-pdf-bahamas-v4\""
   ]
  },
  {
   "cell_type": "code",
   "execution_count": 0,
   "metadata": {
    "application/vnd.databricks.v1+cell": {
     "cellMetadata": {
      "byteLimit": 2048000,
      "rowLimit": 10000
     },
     "inputWidgets": {},
     "nuid": "b587f446-5ad5-438d-bc94-42c2fc974b58",
     "showTitle": false,
     "title": ""
    }
   },
   "outputs": [],
   "source": [
    "# Create an SDK client\n",
    "endpoint = \"https://{}.search.windows.net/\".format(service_name)\n",
    "admin_client = SearchIndexClient(endpoint=endpoint,\n",
    "                       index_name=index_name,\n",
    "                       credential=AzureKeyCredential(admin_key))\n",
    "\n",
    "search_client = SearchClient(endpoint=endpoint,\n",
    "                       index_name=index_name,\n",
    "                       credential=AzureKeyCredential(admin_key))"
   ]
  },
  {
   "cell_type": "markdown",
   "metadata": {
    "application/vnd.databricks.v1+cell": {
     "cellMetadata": {
      "byteLimit": 2048000,
      "rowLimit": 10000
     },
     "inputWidgets": {},
     "nuid": "02b9f758-b6bc-41ce-94ed-3ea64d350d7b",
     "showTitle": false,
     "title": ""
    }
   },
   "source": [
    "for i in range(92,93):\n",
    "    print(i)\n",
    "    data = {'@search.action':\"delete\", 'id': str(i)}\n",
    "    print(data)\n",
    "    data_upload = json.dumps(data)\n",
    "    indexDocument = json.loads(data_upload) \n",
    "    try:\n",
    "        result = search_client.delete_documents(documents=indexDocument)\n",
    "        print(\"Delete of document succeeded: {}\".format(result[0].succeeded))\n",
    "    except Exception as ex:\n",
    "        print (ex.message)"
   ]
  },
  {
   "cell_type": "code",
   "execution_count": 0,
   "metadata": {
    "application/vnd.databricks.v1+cell": {
     "cellMetadata": {
      "byteLimit": 2048000,
      "rowLimit": 10000
     },
     "inputWidgets": {},
     "nuid": "9ee234bd-9d0c-4eaf-84b2-917ef394ef88",
     "showTitle": false,
     "title": ""
    }
   },
   "outputs": [],
   "source": [
    "name = index_name\n",
    "\n",
    "fields = schema_json[\"fields\"]\n",
    "\n",
    "cors_options = CorsOptions(allowed_origins=[\"*\"], max_age_in_seconds=60)\n",
    "\n",
    "scoring_profiles = []\n",
    "suggester = []"
   ]
  },
  {
   "cell_type": "code",
   "execution_count": 0,
   "metadata": {
    "application/vnd.databricks.v1+cell": {
     "cellMetadata": {
      "byteLimit": 2048000,
      "rowLimit": 10000
     },
     "inputWidgets": {},
     "nuid": "9a925ddc-a85a-456d-bdf1-e411f6a58c68",
     "showTitle": false,
     "title": ""
    }
   },
   "outputs": [],
   "source": [
    "index = SearchIndex(\n",
    "    name=name,\n",
    "    fields=fields,\n",
    "    scoring_profiles=scoring_profiles,\n",
    "    suggesters = suggester,\n",
    "    cors_options=cors_options\n",
    "    )\n",
    "\n",
    "try:\n",
    "    result = admin_client.create_index(index)\n",
    "    print ('Index', result.name, 'created')\n",
    "except Exception as ex:\n",
    "    print (ex)"
   ]
  },
  {
   "cell_type": "code",
   "execution_count": 0,
   "metadata": {
    "application/vnd.databricks.v1+cell": {
     "cellMetadata": {
      "byteLimit": 2048000,
      "rowLimit": 10000
     },
     "inputWidgets": {},
     "nuid": "470359ec-32a7-4dd2-92e0-d19f63babeab",
     "showTitle": false,
     "title": ""
    }
   },
   "outputs": [],
   "source": [
    "# Constants\n",
    "storage_account_name = \"storage2023jti\"\n",
    "storage_account_key = \"\"\n",
    "container = \"containerjti\"\n",
    "\n",
    "# Set Azure Data Lake Storage configuration\n",
    "spark.conf.set(f\"fs.azure.account.auth.type.{storage_account_name}.dfs.core.windows.net\", \"SharedKey\")\n",
    "spark.conf.set(f\"fs.azure.account.key.{storage_account_name}.dfs.core.windows.net\", storage_account_key)"
   ]
  },
  {
   "cell_type": "code",
   "execution_count": 0,
   "metadata": {
    "application/vnd.databricks.v1+cell": {
     "cellMetadata": {
      "byteLimit": 2048000,
      "rowLimit": 10000
     },
     "inputWidgets": {},
     "nuid": "b47e42f5-ba63-4ab2-a0d8-4f5b3c31d2b5",
     "showTitle": false,
     "title": ""
    }
   },
   "outputs": [],
   "source": [
    "pdf_path = \"/dbfs/FileStore/bahamas_hurricane_kit_2023.pdf\""
   ]
  },
  {
   "cell_type": "code",
   "execution_count": 0,
   "metadata": {
    "application/vnd.databricks.v1+cell": {
     "cellMetadata": {
      "byteLimit": 2048000,
      "rowLimit": 10000
     },
     "inputWidgets": {},
     "nuid": "fb61bba1-0201-408c-9e8b-8163fca07afb",
     "showTitle": false,
     "title": ""
    }
   },
   "outputs": [],
   "source": [
    "path_silver = \"abfss://testcontainer@storage2023jti.dfs.core.windows.net/metadata_silver_delta\"\n",
    "\n",
    "df_silver = spark.read.format(\"delta\").load(path_silver)"
   ]
  },
  {
   "cell_type": "code",
   "execution_count": 0,
   "metadata": {
    "application/vnd.databricks.v1+cell": {
     "cellMetadata": {
      "byteLimit": 2048000,
      "rowLimit": 10000
     },
     "inputWidgets": {},
     "nuid": "f6d1f958-eaae-49ed-9850-303626b71d81",
     "showTitle": false,
     "title": ""
    }
   },
   "outputs": [],
   "source": [
    "df_silver.show()"
   ]
  },
  {
   "cell_type": "code",
   "execution_count": 0,
   "metadata": {
    "application/vnd.databricks.v1+cell": {
     "cellMetadata": {
      "byteLimit": 2048000,
      "rowLimit": 10000
     },
     "inputWidgets": {},
     "nuid": "79a61df9-a99e-4c7e-a405-01841ad49809",
     "showTitle": false,
     "title": ""
    }
   },
   "outputs": [],
   "source": [
    "df = tabula.read_pdf(pdf_path, pages = 4, guess = False)"
   ]
  },
  {
   "cell_type": "code",
   "execution_count": 0,
   "metadata": {
    "application/vnd.databricks.v1+cell": {
     "cellMetadata": {
      "byteLimit": 2048000,
      "rowLimit": 10000
     },
     "inputWidgets": {},
     "nuid": "5ab848c1-fae0-4807-bcb3-470e5421c006",
     "showTitle": false,
     "title": ""
    }
   },
   "outputs": [],
   "source": [
    "print(df)"
   ]
  },
  {
   "cell_type": "code",
   "execution_count": 0,
   "metadata": {
    "application/vnd.databricks.v1+cell": {
     "cellMetadata": {
      "byteLimit": 2048000,
      "rowLimit": 10000
     },
     "inputWidgets": {},
     "nuid": "b990fbab-4edc-400d-84e8-0d96b1428981",
     "showTitle": false,
     "title": ""
    }
   },
   "outputs": [],
   "source": [
    "#dbutils.fs.mkdirs(\"dbfs:/FileStore/pdfs_temp_for_text/\")"
   ]
  },
  {
   "cell_type": "code",
   "execution_count": 0,
   "metadata": {
    "application/vnd.databricks.v1+cell": {
     "cellMetadata": {
      "byteLimit": 2048000,
      "rowLimit": 10000
     },
     "inputWidgets": {},
     "nuid": "292856e2-3775-445b-a861-fd1942fa614f",
     "showTitle": false,
     "title": ""
    }
   },
   "outputs": [],
   "source": [
    "#dbutils.fs.rm(\"dbfs:/FileStore/pdfs_single_page/\", True)"
   ]
  },
  {
   "cell_type": "code",
   "execution_count": 0,
   "metadata": {
    "application/vnd.databricks.v1+cell": {
     "cellMetadata": {
      "byteLimit": 2048000,
      "rowLimit": 10000
     },
     "inputWidgets": {},
     "nuid": "18d603e8-df25-40ca-b2dc-47bf30d25175",
     "showTitle": false,
     "title": ""
    }
   },
   "outputs": [],
   "source": [
    "dbutils.fs.mkdirs(\"dbfs:/FileStore/pdfs_single_page/\")"
   ]
  },
  {
   "cell_type": "code",
   "execution_count": 0,
   "metadata": {
    "application/vnd.databricks.v1+cell": {
     "cellMetadata": {
      "byteLimit": 2048000,
      "rowLimit": 10000
     },
     "inputWidgets": {},
     "nuid": "4b64ecc4-dfef-4483-b50f-443b94c4d833",
     "showTitle": false,
     "title": ""
    }
   },
   "outputs": [],
   "source": [
    "dbfs_pdf_path =\"dbfs:/FileStore/pdfs_temp_for_text/\""
   ]
  },
  {
   "cell_type": "code",
   "execution_count": 0,
   "metadata": {
    "application/vnd.databricks.v1+cell": {
     "cellMetadata": {
      "byteLimit": 2048000,
      "rowLimit": 10000
     },
     "inputWidgets": {},
     "nuid": "48ad7e64-6bd8-4560-a897-f0a574d83802",
     "showTitle": false,
     "title": ""
    }
   },
   "outputs": [],
   "source": [
    "#add function to split pdf up in pages"
   ]
  },
  {
   "cell_type": "code",
   "execution_count": 0,
   "metadata": {
    "application/vnd.databricks.v1+cell": {
     "cellMetadata": {
      "byteLimit": 2048000,
      "rowLimit": 10000
     },
     "inputWidgets": {},
     "nuid": "9967e860-3634-4e7b-bc91-c4b34d3b3c3d",
     "showTitle": false,
     "title": ""
    }
   },
   "outputs": [],
   "source": [
    "def save_pdf_page_to_storage(file_path, page_number):\n",
    "    try:\n",
    "        #reader = pypdfReader(file_path)\n",
    "        print(page_number)\n",
    "        pdf = PyPDF2Reader(file_path)\n",
    "        pdfWriter = PyPDF2Writer()\n",
    "        # The page numbering in pdfWriter starts at 0\n",
    "        pdfWriter.add_page(pdf.pages[page_number-1])\n",
    "        filename = pdf_info[0].rsplit('/', 1)[-1]\n",
    "        #remove the .pdf or .ashx and add .pdf, so browser can open in app\n",
    "        filename = filename.rsplit('.', 1)[0]\n",
    "        with open('/dbfs/FileStore/pdfs_single_page/' + 'page_{0}'.format(str(page_number)) + '_{0}'.format(filename) + '.pdf', 'wb') as f:\n",
    "            pdfWriter.write(f)\n",
    "            f.close()\n",
    "        return('page_{0}'.format(str(page_number)) + '_{0}'.format(filename))\n",
    "    except Exception as ex:\n",
    "                print (ex.message)"
   ]
  },
  {
   "cell_type": "code",
   "execution_count": 0,
   "metadata": {
    "application/vnd.databricks.v1+cell": {
     "cellMetadata": {
      "byteLimit": 2048000,
      "rowLimit": 10000
     },
     "inputWidgets": {},
     "nuid": "41372e16-dfba-4cd1-b5bc-c2d0c59a32f6",
     "showTitle": false,
     "title": ""
    }
   },
   "outputs": [],
   "source": [
    "def convert_pdf_page_to_text(file_path, pages):\n",
    "    try:\n",
    "        reader = pypdfReader(file_path)\n",
    "        page = reader.pages[pages]\n",
    "        text = \"\\n\" + page.extract_text() + \"\\n\"\n",
    "        #print(text)\n",
    "        if len(text) > 0:\n",
    "\n",
    "            return text\n",
    "        else:\n",
    "            return None\n",
    "    except Exception as ex:\n",
    "                print (ex.message)\n",
    "\n",
    "# Test\n",
    "#df_text = convert_pdf_page_to_text(pdf_path, 4)\n",
    "#if df_text:\n",
    "    #print(df_text)\n",
    "#else:\n",
    "    #print(\"No text were converted in the PDF.\")"
   ]
  },
  {
   "cell_type": "code",
   "execution_count": 0,
   "metadata": {
    "application/vnd.databricks.v1+cell": {
     "cellMetadata": {
      "byteLimit": 2048000,
      "rowLimit": 10000
     },
     "inputWidgets": {},
     "nuid": "7959e7f8-d698-48e2-89e4-aadf26251b2a",
     "showTitle": false,
     "title": ""
    }
   },
   "outputs": [],
   "source": [
    "def convert_pdf_table_to_html(file_path, pages):\n",
    "    # Read table from PDF\n",
    "    try:\n",
    "        df = tabula.read_pdf(file_path, pages=pages, silent=True)\n",
    "        if len(df) > 0:\n",
    "            df = df[0]  # Extract the first table\n",
    "        \n",
    "            df_html = df.to_html()\n",
    "            return df_html\n",
    "        else:\n",
    "            return None\n",
    "    except Exception as ex:\n",
    "                print (ex.message)\n",
    "\n",
    "# Test\n",
    "df_html = convert_pdf_table_to_html(pdf_path, 5)\n",
    "if df_html:\n",
    "    print(df_html)\n",
    "else:\n",
    "    print(\"No tables were converted in the PDF.\")"
   ]
  },
  {
   "cell_type": "code",
   "execution_count": 0,
   "metadata": {
    "application/vnd.databricks.v1+cell": {
     "cellMetadata": {
      "byteLimit": 2048000,
      "rowLimit": 10000
     },
     "inputWidgets": {},
     "nuid": "89f22d77-5c43-4d50-8215-982918ddced2",
     "showTitle": false,
     "title": ""
    }
   },
   "outputs": [],
   "source": [
    "def convert_pdf_table_to_md(file_path, pages):\n",
    "    try:\n",
    "        # Read table from PDF\n",
    "        df = tabula.read_pdf(file_path, pages=pages)\n",
    "        if len(df) > 0:\n",
    "            df = df[0]  # Extract the first table\n",
    "\n",
    "            # Convert DataFrame to Markdown\n",
    "            markdown = tabulate(df, tablefmt=\"pipe\", headers=\"keys\")\n",
    "            return markdown\n",
    "        else:\n",
    "            return None\n",
    "    except Exception as ex:\n",
    "                print (ex.message)\n",
    "\n",
    "# Test\n",
    "markdown = convert_pdf_table_to_md(pdf_path, 5)\n",
    "if markdown:\n",
    "    print(markdown)\n",
    "else:\n",
    "    print(\"No tables were found in the PDF.\")"
   ]
  },
  {
   "cell_type": "code",
   "execution_count": 0,
   "metadata": {
    "application/vnd.databricks.v1+cell": {
     "cellMetadata": {
      "byteLimit": 2048000,
      "rowLimit": 10000
     },
     "inputWidgets": {},
     "nuid": "d993ff85-8fa5-4076-a416-1a8b070c2b43",
     "showTitle": false,
     "title": ""
    }
   },
   "outputs": [],
   "source": [
    "def copy_pdf_from_filestore_to_blob(filename):\n",
    "    # Constants\n",
    "    storage_account_name = \"storage2023jti\"\n",
    "    storage_account_key = \"\"\n",
    "    container = \"containerjti\"\n",
    "\n",
    "    # Set Azure Data Lake Storage configuration\n",
    "    spark.conf.set(f\"fs.azure.account.auth.type.{storage_account_name}.dfs.core.windows.net\", \"SharedKey\")\n",
    "    spark.conf.set(f\"fs.azure.account.key.{storage_account_name}.dfs.core.windows.net\", storage_account_key)\n",
    "\n",
    "    # Define the local path to the PDF file\n",
    "    dbfs_pdf_path = \"dbfs:/FileStore/pdfs_single_page/\"\n",
    "#/dbfs/FileStore/pdfs_single_page/page_1_bahamas_hurricane_kit_2023.pdf\n",
    "    # Define the path for the output PDF in Azure Blob Storage\n",
    "    blob_pdf_path = \"abfss://testcontainer@storage2023jti.dfs.core.windows.net/pdfs_single_page\"\n",
    "\n",
    "    # Use dbutils.fs to copy the PDF file to Azure Blob Storage\n",
    "    dbutils.fs.cp(dbfs_pdf_path + filename, blob_pdf_path)\n",
    "\n",
    "    # Print the paths for verification\n",
    "    print(\"PDF file copied to Azure Blob Storage at:\", blob_pdf_path + \"/\" + filename)\n",
    "    #cleanup, remove file\n",
    "    dbutils.fs.rm(dbfs_pdf_path + filename)\n",
    "\n",
    "    return(blob_pdf_path + \"/\" + filename)"
   ]
  },
  {
   "cell_type": "code",
   "execution_count": 0,
   "metadata": {
    "application/vnd.databricks.v1+cell": {
     "cellMetadata": {
      "byteLimit": 2048000,
      "rowLimit": 10000
     },
     "inputWidgets": {},
     "nuid": "5e9205ca-2a6d-4789-9020-8253de36c0d3",
     "showTitle": false,
     "title": ""
    }
   },
   "outputs": [],
   "source": [
    "account_key = \"\""
   ]
  },
  {
   "cell_type": "code",
   "execution_count": 0,
   "metadata": {
    "application/vnd.databricks.v1+cell": {
     "cellMetadata": {
      "byteLimit": 2048000,
      "rowLimit": 10000
     },
     "inputWidgets": {},
     "nuid": "6e5946b4-92c8-4095-a3e2-7a98d21191ef",
     "showTitle": false,
     "title": ""
    }
   },
   "outputs": [],
   "source": [
    "search_action = \"upload\""
   ]
  },
  {
   "cell_type": "code",
   "execution_count": 0,
   "metadata": {
    "application/vnd.databricks.v1+cell": {
     "cellMetadata": {
      "byteLimit": 2048000,
      "rowLimit": 10000
     },
     "inputWidgets": {},
     "nuid": "d8f03bbc-372a-405e-be7b-e1d6d7ee9c62",
     "showTitle": false,
     "title": ""
    }
   },
   "outputs": [],
   "source": [
    "print(type(df_silver))"
   ]
  },
  {
   "cell_type": "code",
   "execution_count": 0,
   "metadata": {
    "application/vnd.databricks.v1+cell": {
     "cellMetadata": {
      "byteLimit": 2048000,
      "rowLimit": 10000
     },
     "inputWidgets": {},
     "nuid": "d860f900-2a8c-452c-b4b1-7f3392a20449",
     "showTitle": false,
     "title": ""
    }
   },
   "outputs": [],
   "source": [
    "def customFunction(row):\n",
    "   return (row.path_to_pdf_in_storage, row.number_pages_pdf, row.pdflink_on_website)\n",
    "\n",
    "silver_pdf_paths = df_silver.rdd.map(customFunction)"
   ]
  },
  {
   "cell_type": "code",
   "execution_count": 0,
   "metadata": {
    "application/vnd.databricks.v1+cell": {
     "cellMetadata": {
      "byteLimit": 2048000,
      "rowLimit": 10000
     },
     "inputWidgets": {},
     "nuid": "9b5f2808-a02c-4103-95ed-73437813e244",
     "showTitle": false,
     "title": ""
    }
   },
   "outputs": [],
   "source": [
    "print(type(silver_pdf_paths))"
   ]
  },
  {
   "cell_type": "code",
   "execution_count": 0,
   "metadata": {
    "application/vnd.databricks.v1+cell": {
     "cellMetadata": {
      "byteLimit": 2048000,
      "rowLimit": 10000
     },
     "inputWidgets": {},
     "nuid": "6b70bad0-03ef-400e-b076-9825b4f98067",
     "showTitle": false,
     "title": ""
    }
   },
   "outputs": [],
   "source": [
    "silver_pdf_paths.collect()"
   ]
  },
  {
   "cell_type": "code",
   "execution_count": 0,
   "metadata": {
    "application/vnd.databricks.v1+cell": {
     "cellMetadata": {
      "byteLimit": 2048000,
      "rowLimit": 10000
     },
     "inputWidgets": {},
     "nuid": "9dd3eaed-0446-405c-a5d2-946b14b35830",
     "showTitle": false,
     "title": ""
    }
   },
   "outputs": [],
   "source": [
    "#https://stackoverflow.com/questions/62733213/azure-blobstore-how-can-i-read-a-file-without-having-to-download-the-whole-thin"
   ]
  },
  {
   "cell_type": "code",
   "execution_count": 0,
   "metadata": {
    "application/vnd.databricks.v1+cell": {
     "cellMetadata": {
      "byteLimit": 2048000,
      "rowLimit": 10000
     },
     "inputWidgets": {},
     "nuid": "ca86551e-9ce2-4cc5-a422-f895c051f186",
     "showTitle": false,
     "title": ""
    }
   },
   "outputs": [],
   "source": [
    "j = 1"
   ]
  },
  {
   "cell_type": "code",
   "execution_count": 0,
   "metadata": {
    "application/vnd.databricks.v1+cell": {
     "cellMetadata": {
      "byteLimit": 2048000,
      "rowLimit": 10000
     },
     "inputWidgets": {},
     "nuid": "dbe063d6-960b-42c2-a288-b997bc23daab",
     "showTitle": false,
     "title": ""
    }
   },
   "outputs": [],
   "source": [
    "for pdf_info in silver_pdf_paths.collect():\n",
    "    j = j + 1\n",
    "    #print(pdf_info)\n",
    "    filename = pdf_info[0].rsplit('/', 1)[-1]\n",
    "    print(filename)\n",
    "    filepath_http =  \"https://storage2023jti.blob.core.windows.net/testcontainer/pdfs_permanent_storage/\" + filename + \"?\" + account_key\n",
    "    #print(filepath_http)\n",
    "    #dbutils.fs.cp(pdf_info[0], dbfs_pdf_path + filename)\n",
    "    filepath_dbfs = \"/dbfs/FileStore/pdfs_temp/\"\n",
    "    for i in range(1,pdf_info[1]):\n",
    "        doc_number = str(j)\n",
    "        print(\"doc number \" + str(j))\n",
    "        page_number = str(i)\n",
    "        print(\"page number \" + str(i))\n",
    "        doc_id = str(j) + str(i)\n",
    "        print(\"doc id \" + doc_id)\n",
    "        try:\n",
    "            markdown = convert_pdf_table_to_md(filepath_dbfs + filename , i)\n",
    "            df_html = convert_pdf_table_to_html(filepath_dbfs + filename, i)\n",
    "            text = convert_pdf_page_to_text(filepath_dbfs + filename, i)\n",
    "            single_page_pdf_name = save_pdf_page_to_storage(filepath_dbfs + filename, i)\n",
    "            copy_pdf_from_filestore_to_blob(single_page_pdf_name + '.pdf')\n",
    "            if (markdown):\n",
    "                dataType = \"table\"\n",
    "            else:\n",
    "                dataType = \"text\"\n",
    "            #print(markdown)\n",
    "            data = {'@search.action':search_action, 'id': doc_id, 'content':markdown, 'page_number':page_number, 'document_link': pdf_info[2], 'document_link_storage': pdf_info[0],'dataType': dataType, 'title' : filename , 'content_html':df_html , 'content_text' : text, 'document_filename' : single_page_pdf_name + '.pdf'}\n",
    "            #print(data)\n",
    "            upload = json.dumps(data)\n",
    "            indexDocument = json.loads(upload)\n",
    "            try:\n",
    "                result = search_client.upload_documents(documents=indexDocument)\n",
    "                print(\"Upload of new document succeeded: {}\".format(result[0].succeeded))\n",
    "            except Exception as ex:\n",
    "                print (ex.message)\n",
    "        except Exception as ex:\n",
    "                print (ex.message)\n",
    "        "
   ]
  },
  {
   "cell_type": "markdown",
   "metadata": {
    "application/vnd.databricks.v1+cell": {
     "cellMetadata": {
      "byteLimit": 2048000,
      "rowLimit": 10000
     },
     "inputWidgets": {},
     "nuid": "56534eae-444d-48e2-9eb7-8476cb8cb65d",
     "showTitle": false,
     "title": ""
    }
   },
   "source": [
    "for i in range(1,84):\n",
    "    print(i)\n",
    "    page_number = str(i)\n",
    "    markdown = convert_pdf_table_to_md(pdf_path, i)\n",
    "    df_html = convert_pdf_table_to_html(pdf_path, i)\n",
    "    #print(markdown)\n",
    "    data = {'@search.action':search_action, 'id': str(i), 'content':markdown, 'page_number':page_number, 'document_link': \"https://www.imf.org/-/media/Files/Publications/CR/2022/English/1BHSEA2022001.ashx\",\n",
    "           'dataType': dataType, 'title' : title , 'content_html':df_html }\n",
    "    #print(data)\n",
    "    table_upload = json.dumps(data)\n",
    "    indexDocument = json.loads(table_upload)\n",
    "    try:\n",
    "        result = search_client.upload_documents(documents=indexDocument)\n",
    "        print(\"Upload of new document succeeded: {}\".format(result[0].succeeded))\n",
    "    except Exception as ex:\n",
    "        print (ex.message)"
   ]
  },
  {
   "cell_type": "code",
   "execution_count": 0,
   "metadata": {
    "application/vnd.databricks.v1+cell": {
     "cellMetadata": {
      "byteLimit": 2048000,
      "rowLimit": 10000
     },
     "inputWidgets": {},
     "nuid": "ca4eb80b-5cb0-417b-af23-e85e2ea59c94",
     "showTitle": false,
     "title": ""
    }
   },
   "outputs": [],
   "source": [
    "#test\n",
    "results_GDP_bahamas = search_client.search(search_text=\"GDP Bahamas 2023\")\n",
    "\n",
    "for result in results_GDP_bahamas:\n",
    "    print(\"{}: {})\".format(result[\"id\"], result[\"@search.score\"]))\n"
   ]
  },
  {
   "cell_type": "code",
   "execution_count": 0,
   "metadata": {
    "application/vnd.databricks.v1+cell": {
     "cellMetadata": {
      "byteLimit": 2048000,
      "rowLimit": 10000
     },
     "inputWidgets": {},
     "nuid": "18c7de78-eb59-4d36-9e22-3f68301c3381",
     "showTitle": false,
     "title": ""
    }
   },
   "outputs": [],
   "source": [
    "import openai\n",
    "import time"
   ]
  },
  {
   "cell_type": "code",
   "execution_count": 0,
   "metadata": {
    "application/vnd.databricks.v1+cell": {
     "cellMetadata": {
      "byteLimit": 2048000,
      "rowLimit": 10000
     },
     "inputWidgets": {},
     "nuid": "1e635d0d-8e3f-4c16-af79-f3347fb5cc26",
     "showTitle": false,
     "title": ""
    }
   },
   "outputs": [],
   "source": [
    "openai.api_key = \"\""
   ]
  },
  {
   "cell_type": "code",
   "execution_count": 0,
   "metadata": {
    "application/vnd.databricks.v1+cell": {
     "cellMetadata": {
      "byteLimit": 2048000,
      "rowLimit": 10000
     },
     "inputWidgets": {},
     "nuid": "d366925d-6c4a-4fda-a906-1d4ce7d97316",
     "showTitle": false,
     "title": ""
    }
   },
   "outputs": [],
   "source": [
    "def create_prompt (df_from_pdf_page):\n",
    "    prompt_table_from_pdf = f\"\"\" Look into the table provided in triple backticks and find out the following information\\\n",
    "    1. Real GDP in 2023(%Change)\n",
    "    2. GDP in 2023 (millions of Bahamian Dollars)\n",
    "    3. Government Debt in 2023 (% of GDP)\n",
    "    .Do not hallucinate. ```{df_from_pdf_page}```\"\"\"\n",
    "    return (prompt_table_from_pdf)"
   ]
  },
  {
   "cell_type": "code",
   "execution_count": 0,
   "metadata": {
    "application/vnd.databricks.v1+cell": {
     "cellMetadata": {
      "byteLimit": 2048000,
      "rowLimit": 10000
     },
     "inputWidgets": {},
     "nuid": "b5309795-4f58-4ee3-b16b-c29b1af1a91b",
     "showTitle": false,
     "title": ""
    }
   },
   "outputs": [],
   "source": [
    "def get_answer_from_openai (prompt_pdf_table):\n",
    "    response = openai.ChatCompletion.create(\n",
    "        model=\"gpt-3.5-turbo\", # The deployment name you chose when you deployed the ChatGPT or GPT-4 model.\n",
    "        messages=[\n",
    "            #{\"role\": \"system\", \"content\": \"Assistant is a large language model trained by OpenAI.\"},\n",
    "            {\"role\": \"user\", \"content\": prompt_pdf_table}\n",
    "            ]\n",
    "        )\n",
    "    return(response['choices'][0]['message']['content'])"
   ]
  },
  {
   "cell_type": "code",
   "execution_count": 0,
   "metadata": {
    "application/vnd.databricks.v1+cell": {
     "cellMetadata": {
      "byteLimit": 2048000,
      "rowLimit": 10000
     },
     "inputWidgets": {},
     "nuid": "c61b5109-c7e3-4035-b103-1665346b28c5",
     "showTitle": false,
     "title": ""
    }
   },
   "outputs": [],
   "source": [
    "results_unemployment_rate = search_client.search(search_text=\"Unemployment Rate\")\n",
    "i = 0\n",
    "for result in results_unemployment_rate:\n",
    "    if i > 3:\n",
    "        break\n",
    "    prompt_temp = create_prompt_unemployment(result[\"content\"])\n",
    "    print(prompt_temp)\n",
    "    answer = get_answer_from_openai(prompt_temp)\n",
    "    print(answer)\n",
    "    time.sleep(60)\n",
    "    i=i+1\n",
    "    print(\"{}: {})\".format(result[\"id\"], result[\"@search.score\"]))\n"
   ]
  }
 ],
 "metadata": {
  "application/vnd.databricks.v1+notebook": {
   "dashboards": [],
   "language": "python",
   "notebookMetadata": {
    "pythonIndentUnit": 4
   },
   "notebookName": "create search index and upload documents cleaned and updated",
   "widgets": {}
  },
  "kernelspec": {
   "display_name": "Python 3 (ipykernel)",
   "language": "python",
   "name": "python3"
  },
  "language_info": {
   "codemirror_mode": {
    "name": "ipython",
    "version": 3
   },
   "file_extension": ".py",
   "mimetype": "text/x-python",
   "name": "python",
   "nbconvert_exporter": "python",
   "pygments_lexer": "ipython3",
   "version": "3.11.0"
  }
 },
 "nbformat": 4,
 "nbformat_minor": 0
}
